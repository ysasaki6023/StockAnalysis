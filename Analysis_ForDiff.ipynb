{
 "cells": [
  {
   "cell_type": "code",
   "execution_count": 71,
   "metadata": {
    "collapsed": false
   },
   "outputs": [
    {
     "name": "stdout",
     "output_type": "stream",
     "text": [
      "[ 0.00202429 -0.0040404  -0.0020284  ...,  0.          0.00298954  0.        ]\n",
      "[  0.00000000e+00   1.00024378e+00   2.00048757e+00 ...,   4.10099951e+03\n",
      "   4.10199976e+03   4.10300000e+03]\n",
      "[ 0.00202429 -0.0040404  -0.0020284  ...,  0.          0.00298954  0.        ]\n"
     ]
    },
    {
     "data": {
      "text/plain": [
       "(350, 400)"
      ]
     },
     "execution_count": 71,
     "metadata": {},
     "output_type": "execute_result"
    },
    {
     "data": {
      "image/png": "[encoded data removed]",
      "text/plain": [
       "<matplotlib.figure.Figure at 0x7f15824f3410>"
      ]
     },
     "metadata": {},
     "output_type": "display_data"
    }
   ],
   "source": [
    "%matplotlib inline\n",
    "import pandas as pd\n",
    "import matplotlib.pyplot as plt\n",
    "import numpy as np\n",
    "\n",
    "nInd = 1\n",
    "nTgt = 3 #2はいまいちな株。\n",
    "nTot = 5\n",
    "\n",
    "iY   = nInd + nTgt\n",
    "iT   = nInd + nTgt + nTot \n",
    "iZ   = nInd + nTgt + nTot * 2\n",
    "\n",
    "d = np.genfromtxt(\"output_train.csv\",delimiter=\",\").transpose(1,0)\n",
    "\n",
    "vY = d[iY]\n",
    "vT = d[iT]\n",
    "vZ = d[iZ]\n",
    "\n",
    "print vT\n",
    "\n",
    "\n",
    "#vTp1 = vZ * (1. + vT)\n",
    "#vYp1 = vZ * (1. + vY)\n",
    "vTp1 = vT\n",
    "vYp1 = vY\n",
    "\n",
    "\n",
    "\n",
    "vLin = np.linspace(0,len(vZ),len(vZ))\n",
    "\n",
    "print vLin\n",
    "\n",
    "#fig = plt.figure()\n",
    "\n",
    "plt.plot(vLin,vTp1)\n",
    "plt.plot(vLin,vYp1)\n",
    "\n",
    "print vTp1\n",
    "\n",
    "plt.xlim(350,400)\n",
    "#plt.ylim(310,312)\n",
    "\n",
    "\n"
   ]
  },
  {
   "cell_type": "code",
   "execution_count": null,
   "metadata": {
    "collapsed": true
   },
   "outputs": [],
   "source": []
  },
  {
   "cell_type": "code",
   "execution_count": null,
   "metadata": {
    "collapsed": true
   },
   "outputs": [],
   "source": []
  },
  {
   "cell_type": "code",
   "execution_count": null,
   "metadata": {
    "collapsed": true
   },
   "outputs": [],
   "source": []
  },
  {
   "cell_type": "code",
   "execution_count": null,
   "metadata": {
    "collapsed": true
   },
   "outputs": [],
   "source": []
  }
 ],
 "metadata": {
  "kernelspec": {
   "display_name": "Python 2",
   "language": "python",
   "name": "python2"
  },
  "language_info": {
   "codemirror_mode": {
    "name": "ipython",
    "version": 2
   },
   "file_extension": ".py",
   "mimetype": "text/x-python",
   "name": "python",
   "nbconvert_exporter": "python",
   "pygments_lexer": "ipython2",
   "version": "2.7.10"
  }
 },
 "nbformat": 4,
 "nbformat_minor": 0
}
