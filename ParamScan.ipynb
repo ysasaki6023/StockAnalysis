{
 "cells": [
  {
   "cell_type": "code",
   "execution_count": 22,
   "metadata": {
    "collapsed": false
   },
   "outputs": [
    {
     "name": "stdout",
     "output_type": "stream",
     "text": [
      "[ -3.11977092e-05   1.23779892e-05  -1.61893302e-04 ...,   0.00000000e+00\n",
      "   2.37031691e-05   0.00000000e+00]\n"
     ]
    },
    {
     "data": {
      "text/plain": [
       "[<matplotlib.lines.Line2D at 0x7fc4cf530750>]"
      ]
     },
     "execution_count": 22,
     "metadata": {},
     "output_type": "execute_result"
    },
    {
     "data": {
      "image/png": "[encoded data removed]",
      "text/plain": [
       "<matplotlib.figure.Figure at 0x7fc4d404e1d0>"
      ]
     },
     "metadata": {},
     "output_type": "display_data"
    }
   ],
   "source": [
    "%matplotlib inline\n",
    "import numpy as np\n",
    "import pandas as pd\n",
    "import matplotlib.pyplot as plt\n",
    "import h5py\n",
    "\n",
    "def numGet(tgt,i,j=-1):\n",
    "    f = h5py.File(\"params.hdf5\",\"r\")\n",
    "    #print f.keys()\n",
    "    keys = f.keys()\n",
    "    x = np.zeros(len(keys))\n",
    "    y = np.zeros(len(keys))\n",
    "    for p in range(len(keys)):\n",
    "        k = int(keys[p])\n",
    "        x[p] = float(k)\n",
    "        y[p] = float(f[\"%d/%s\"%(k,tgt)].value[i][j])\n",
    "    return x,y\n",
    "\n",
    "x,y= numGet(\"lin.W.W\",1,1)\n",
    "print y\n",
    "plt.plot(x,y,\"o\")\n",
    "#plt.ylim(min(y[1000:]),max(y[1000:]))\n",
    "    "
   ]
  }
 ],
 "metadata": {
  "kernelspec": {
   "display_name": "Python 2",
   "language": "python",
   "name": "python2"
  },
  "language_info": {
   "codemirror_mode": {
    "name": "ipython",
    "version": 2
   },
   "file_extension": ".py",
   "mimetype": "text/x-python",
   "name": "python",
   "nbconvert_exporter": "python",
   "pygments_lexer": "ipython2",
   "version": "2.7.10"
  }
 },
 "nbformat": 4,
 "nbformat_minor": 0
}
