{
 "cells": [
  {
   "cell_type": "code",
   "execution_count": 18,
   "metadata": {
    "collapsed": false
   },
   "outputs": [
    {
     "name": "stdout",
     "output_type": "stream",
     "text": [
      "[ 3254.  3259.  3250. ...,  4189.  4199.  4194.]\n",
      "[  0.00000000e+00   1.00024307e+00   2.00048614e+00 ...,   4.11299951e+03\n",
      "   4.11399976e+03   4.11500000e+03]\n"
     ]
    },
    {
     "data": {
      "text/plain": [
       "(3600, 3700)"
      ]
     },
     "execution_count": 18,
     "metadata": {},
     "output_type": "execute_result"
    },
    {
     "data": {
      "image/png": "[encoded data removed]",
      "text/plain": [
       "<matplotlib.figure.Figure at 0x7f33ab83a210>"
      ]
     },
     "metadata": {},
     "output_type": "display_data"
    }
   ],
   "source": [
    "%matplotlib inline\n",
    "import pandas as pd\n",
    "import matplotlib.pyplot as plt\n",
    "import numpy as np\n",
    "\n",
    "nInd = 1\n",
    "nTgt = 40 #2はいまいちな株。\n",
    "nTot = 50\n",
    "\n",
    "iY   = nInd + nTgt\n",
    "iT   = nInd + nTgt + nTot \n",
    "\n",
    "d = np.genfromtxt(\"output_train.csv\",delimiter=\",\").transpose(1,0)\n",
    "\n",
    "vY = d[iY]\n",
    "vT = d[iT]\n",
    "\n",
    "print vT\n",
    "\n",
    "vLin = np.linspace(0,len(vT),len(vT))\n",
    "\n",
    "print vLin\n",
    "\n",
    "#fig = plt.figure()\n",
    "\n",
    "plt.plot(vLin,vT)\n",
    "plt.plot(vLin,vY)\n",
    "\n",
    "plt.xlim(3600,3700)\n",
    "\n",
    "#plt.xlim(790,820)\n",
    "#plt.ylim(140,160)\n",
    "\n",
    "\n"
   ]
  },
  {
   "cell_type": "code",
   "execution_count": null,
   "metadata": {
    "collapsed": true
   },
   "outputs": [],
   "source": []
  },
  {
   "cell_type": "code",
   "execution_count": null,
   "metadata": {
    "collapsed": true
   },
   "outputs": [],
   "source": []
  },
  {
   "cell_type": "code",
   "execution_count": null,
   "metadata": {
    "collapsed": true
   },
   "outputs": [],
   "source": []
  },
  {
   "cell_type": "code",
   "execution_count": null,
   "metadata": {
    "collapsed": true
   },
   "outputs": [],
   "source": []
  }
 ],
 "metadata": {
  "kernelspec": {
   "display_name": "Python 2",
   "language": "python",
   "name": "python2"
  }
 },
 "nbformat": 4,
 "nbformat_minor": 0
}
